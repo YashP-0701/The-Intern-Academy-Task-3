{
 "cells": [
  {
   "cell_type": "markdown",
   "source": [
    "# *The Intern Academy*\r\n",
    "## *Done By:*\r\n",
    "## *1. Yash Ajit Paddalwar*\r\n",
    "## *2. Chaitanya Gajanan Yadav*\r\n",
    "## *3. Sarvesh Gore*\r\n",
    "\r\n",
    "\r\n",
    "# *TASK 3:*\r\n",
    "\r\n",
    "Problem Statement:\r\n",
    "\r\n",
    "In today’s world banking is also a platform which is almost automated. However many people face\r\n",
    "different issues during online banking and also many are not aware of correct safety measure for\r\n",
    "their accounts. To create a bot using Natural Language Processing and deep learning which will be\r\n",
    "able to give answers for various banking related issues like your bank id, transaction details,\r\n",
    "Security services, loan policies, your account status etc.\r\n",
    "\r\n",
    "Here the objectives are:-\r\n",
    "\r\n",
    "1. To create a bot mobile app which can give answers to all your banking related\r\n",
    "queries.\r\n",
    "\r\n",
    "2. Keep you updated with your transaction activity so any kind fraud can be\r\n",
    "avoided.\r\n",
    "\r\n",
    "3. Also give you alert signs if find any suspicious activity in your account."
   ],
   "metadata": {}
  },
  {
   "cell_type": "markdown",
   "source": [
    "# DONE BY SARVESH GORE"
   ],
   "metadata": {}
  },
  {
   "cell_type": "code",
   "execution_count": 1,
   "source": [
    "## Let's import all the libraries\r\n",
    "import pandas as pd\r\n",
    "import numpy as np\r\n",
    "import pickle\r\n",
    "import operator"
   ],
   "outputs": [],
   "metadata": {}
  },
  {
   "cell_type": "code",
   "execution_count": 2,
   "source": [
    "## Pre Processing Data\r\n",
    "from sklearn.svm import SVC\r\n",
    "from sklearn.model_selection import train_test_split as tts\r\n",
    "from sklearn.feature_extraction.text import TfidfVectorizer\r\n",
    "from sklearn.preprocessing import LabelEncoder as LE\r\n",
    "from sklearn.metrics.pairwise import cosine_similarity"
   ],
   "outputs": [],
   "metadata": {}
  },
  {
   "cell_type": "code",
   "execution_count": 4,
   "source": [
    "## Importing random and nltk\r\n",
    "import random\r\n",
    "import nltk"
   ],
   "outputs": [],
   "metadata": {}
  },
  {
   "cell_type": "code",
   "execution_count": 8,
   "source": [
    "## NLTK is a set of libraries for Natural Language Processing. It is a platform for building Python Progreams to process natural language. Mainly used for Q&A and Chatbots.\r\n",
    "## The Random module provide accesss to functions that support types of functions like choosing a random number, calls, query etc.\r\n",
    "## Stemming is a technique used to extract the base form of the words by removing affixes from them. It is just like cutting down the branches of a tree to its stems. For example, the stem of the words eating, eats, eaten is eat."
   ],
   "outputs": [],
   "metadata": {}
  },
  {
   "cell_type": "code",
   "execution_count": 5,
   "source": [
    "from nltk.stem.lancaster import LancasterStemmer"
   ],
   "outputs": [],
   "metadata": {}
  },
  {
   "cell_type": "code",
   "execution_count": 6,
   "source": [
    "\r\n",
    "## NLTK has LancasterStemmer class with the help of which we can easily implement Lancaster Stemmer algorithms for the word we want to stem"
   ],
   "outputs": [],
   "metadata": {}
  },
  {
   "cell_type": "code",
   "execution_count": 7,
   "source": [
    "stemmer = LancasterStemmer()"
   ],
   "outputs": [],
   "metadata": {}
  },
  {
   "cell_type": "code",
   "execution_count": 8,
   "source": [
    "def cleanup(sentence):\r\n",
    "    word_tok = nltk.word_tokenize(sentence)\r\n",
    "    stemmed_words = [stemmer.stem(w) for w in word_tok]\r\n",
    "\r\n",
    "    return ' '.join(stemmed_words)"
   ],
   "outputs": [],
   "metadata": {}
  },
  {
   "cell_type": "code",
   "execution_count": 9,
   "source": [
    "le = LE()"
   ],
   "outputs": [],
   "metadata": {}
  },
  {
   "cell_type": "code",
   "execution_count": 10,
   "source": [
    "tfv = TfidfVectorizer(min_df=1, stop_words='english')"
   ],
   "outputs": [],
   "metadata": {}
  },
  {
   "cell_type": "code",
   "execution_count": 11,
   "source": [
    "data = pd.read_csv('https://raw.githubusercontent.com/MrJay10/banking-faq-bot/master/BankFAQs.csv')\r\n",
    "questions = data['Question'].values"
   ],
   "outputs": [],
   "metadata": {}
  },
  {
   "cell_type": "markdown",
   "source": [
    "# DONE BY CHAITANYA GAJANAN YADAV"
   ],
   "metadata": {}
  },
  {
   "cell_type": "code",
   "execution_count": 12,
   "source": [
    "import nltk\r\n",
    "nltk.download('punkt')"
   ],
   "outputs": [
    {
     "output_type": "stream",
     "name": "stderr",
     "text": [
      "[nltk_data] Downloading package punkt to\n",
      "[nltk_data]     C:\\Users\\yash\\AppData\\Roaming\\nltk_data...\n",
      "[nltk_data]   Package punkt is already up-to-date!\n"
     ]
    },
    {
     "output_type": "execute_result",
     "data": {
      "text/plain": [
       "True"
      ]
     },
     "metadata": {},
     "execution_count": 12
    }
   ],
   "metadata": {}
  },
  {
   "cell_type": "code",
   "execution_count": 13,
   "source": [
    "X = []\r\n",
    "for question in questions:\r\n",
    "    X.append(cleanup(question))"
   ],
   "outputs": [],
   "metadata": {}
  },
  {
   "cell_type": "code",
   "execution_count": 14,
   "source": [
    "tfv.fit(X)\r\n",
    "le.fit(data['Class'])"
   ],
   "outputs": [
    {
     "output_type": "execute_result",
     "data": {
      "text/plain": [
       "LabelEncoder()"
      ]
     },
     "metadata": {},
     "execution_count": 14
    }
   ],
   "metadata": {}
  },
  {
   "cell_type": "markdown",
   "source": [
    "# DONE BY YASH AJIT PADDALWAR"
   ],
   "metadata": {}
  },
  {
   "cell_type": "code",
   "execution_count": 15,
   "source": [
    "## Training Data"
   ],
   "outputs": [],
   "metadata": {}
  },
  {
   "cell_type": "code",
   "execution_count": 16,
   "source": [
    "X = tfv.transform(X)\r\n",
    "y = le.transform(data['Class'])"
   ],
   "outputs": [],
   "metadata": {}
  },
  {
   "cell_type": "code",
   "execution_count": 17,
   "source": [
    "trainx, testx, trainy, testy = tts(X, y, test_size=.25, random_state=42)"
   ],
   "outputs": [],
   "metadata": {}
  },
  {
   "cell_type": "code",
   "execution_count": 18,
   "source": [
    "model = SVC(kernel='linear')\r\n",
    "model.fit(trainx, trainy)\r\n",
    "print(\"SVC:\", model.score(testx, testy))\r\n"
   ],
   "outputs": [
    {
     "output_type": "stream",
     "name": "stdout",
     "text": [
      "SVC: 0.927437641723356\n"
     ]
    }
   ],
   "metadata": {}
  },
  {
   "cell_type": "code",
   "execution_count": 19,
   "source": [
    "def get_max5(arr):\r\n",
    "    ixarr = []\r\n",
    "    for ix, el in enumerate(arr):\r\n",
    "        ixarr.append((el, ix))\r\n",
    "    ixarr.sort()\r\n",
    "\r\n",
    "    ixs = []\r\n",
    "    for i in ixarr[-5:]:\r\n",
    "        ixs.append(i[1])\r\n",
    "\r\n",
    "    return ixs[::-1]"
   ],
   "outputs": [],
   "metadata": {}
  },
  {
   "cell_type": "code",
   "execution_count": 20,
   "source": [
    "## Chatbot for banking related queries"
   ],
   "outputs": [],
   "metadata": {}
  },
  {
   "cell_type": "code",
   "execution_count": 26,
   "source": [
    "def chat():\r\n",
    "    cnt = 0\r\n",
    "    print(\"PRESS Q to QUIT\")\r\n",
    "    print(\"TYPE \\\"DEBUG\\\" to Display Debugging statements.\")\r\n",
    "    print(\"TYPE \\\"STOP\\\" to Stop Debugging statements.\")\r\n",
    "    print(\"TYPE \\\"TOP5\\\" to Display 5 most relevent results\")\r\n",
    "    print(\"TYPE \\\"CONF\\\" to Display the most confident result\")\r\n",
    "    print()\r\n",
    "    print()\r\n",
    "    DEBUG = False\r\n",
    "    TOP5 = False\r\n",
    "\r\n",
    "    print(\"Bot: Hi, Welcome to our bank!\")\r\n",
    "    while True:\r\n",
    "        usr = input(\"You: \")\r\n",
    "\r\n",
    "        if usr.lower() == 'yes':\r\n",
    "            print(\"Bot: Yes!\")\r\n",
    "            continue\r\n",
    "\r\n",
    "        if usr.lower() == 'no':\r\n",
    "            print(\"Bot: No?\")\r\n",
    "            continue\r\n",
    "\r\n",
    "        if usr == 'DEBUG':\r\n",
    "            DEBUG = True\r\n",
    "            print(\"Debugging mode on\")\r\n",
    "            continue\r\n",
    "            \r\n",
    "        if usr == 'STOP':\r\n",
    "            DEBUG = False\r\n",
    "            print(\"Debugging mode off\")\r\n",
    "            continue\r\n",
    "\r\n",
    "        if usr == 'Q':\r\n",
    "            print(\"Bot: It was good to be of help.\")\r\n",
    "            break\r\n",
    "\r\n",
    "        if usr == 'TOP5':\r\n",
    "            TOP5 = True\r\n",
    "            print(\"Will display 5 most relevent results now\")\r\n",
    "            continue\r\n",
    "\r\n",
    "        if usr == 'CONF':\r\n",
    "            TOP5 = False\r\n",
    "            print(\"Only the most relevent result will be displayed\")\r\n",
    "            continue\r\n",
    "\r\n",
    "        t_usr = tfv.transform([cleanup(usr.strip().lower())])\r\n",
    "        class_ = le.inverse_transform(model.predict(t_usr)[0])\r\n",
    "        questionset = data[data['Class']==class_]\r\n",
    "        \r\n",
    "        if DEBUG:\r\n",
    "            print(\"Question classified under category:\", class_)\r\n",
    "            print(\"{} Questions belong to this class\".format(len(questionset)))\r\n",
    "\r\n",
    "        cos_sims = []\r\n",
    "        for question in questionset['Question']:\r\n",
    "            sims = cosine_similarity(tfv.transform([question]), t_usr)\r\n",
    "            cos_sims.append(sims)\r\n",
    "            \r\n",
    "        ind = cos_sims.index(max(cos_sims))\r\n",
    "\r\n",
    "        if DEBUG:\r\n",
    "            question = questionset[\"Question\"][questionset.index[ind]]\r\n",
    "            print(\"Assuming you asked: {}\".format(question))\r\n",
    "\r\n",
    "        if not TOP5:\r\n",
    "            print(\"Bot:\", data['Answer'][questionset.index[ind]])\r\n",
    "        else:\r\n",
    "            inds = get_max5(cos_sims)\r\n",
    "            for ix in inds:\r\n",
    "                print(\"Question: \"+data['Question'][questionset.index[ix]])\r\n",
    "                print(\"Answer: \"+data['Answer'][questionset.index[ix]])\r\n",
    "                print('-'*50)\r\n",
    "\r\n",
    "        print(\"\\n\"*2)\r\n",
    "        outcome = input(\"Was this answer helpful? Yes/No: \").lower().strip()\r\n",
    "        if outcome == 'yes':\r\n",
    "            cnt = 0\r\n",
    "        elif outcome == 'no':\r\n",
    "            inds = get_max5(cos_sims)\r\n",
    "            sugg_choice = input(\"Bot: Do you want me to suggest you questions ? Yes/No: \").lower()\r\n",
    "            if sugg_choice == 'yes':\r\n",
    "                q_cnt = 1\r\n",
    "                for ix in inds:\r\n",
    "                    print(q_cnt,\"Question: \"+data['Question'][questionset.index[ix]])\r\n",
    "                    # print(\"Answer: \"+data['Answer'][questionset.index[ix]])\r\n",
    "                    print('-'*50)\r\n",
    "                    q_cnt += 1\r\n",
    "                num = int(input(\"Please enter the question number you find most relevant: \"))\r\n",
    "                print(\"Bot: \", data['Answer'][questionset.index[inds[num-1]]])\r\n",
    "\r\n",
    "\r\n",
    "chat()"
   ],
   "outputs": [
    {
     "output_type": "stream",
     "name": "stdout",
     "text": [
      "PRESS Q to QUIT\n",
      "TYPE \"DEBUG\" to Display Debugging statements.\n",
      "TYPE \"STOP\" to Stop Debugging statements.\n",
      "TYPE \"TOP5\" to Display 5 most relevent results\n",
      "TYPE \"CONF\" to Display the most confident result\n",
      "\n",
      "\n",
      "Bot: Hi, Welcome to our bank!\n"
     ]
    },
    {
     "output_type": "error",
     "ename": "ValueError",
     "evalue": "y should be a 1d array, got an array of shape () instead.",
     "traceback": [
      "\u001b[1;31m---------------------------------------------------------------------------\u001b[0m",
      "\u001b[1;31mValueError\u001b[0m                                Traceback (most recent call last)",
      "\u001b[1;32m<ipython-input-26-2848b22b1cac>\u001b[0m in \u001b[0;36m<module>\u001b[1;34m\u001b[0m\n\u001b[0;32m     93\u001b[0m \u001b[1;33m\u001b[0m\u001b[0m\n\u001b[0;32m     94\u001b[0m \u001b[1;33m\u001b[0m\u001b[0m\n\u001b[1;32m---> 95\u001b[1;33m \u001b[0mchat\u001b[0m\u001b[1;33m(\u001b[0m\u001b[1;33m)\u001b[0m\u001b[1;33m\u001b[0m\u001b[1;33m\u001b[0m\u001b[0m\n\u001b[0m",
      "\u001b[1;32m<ipython-input-26-2848b22b1cac>\u001b[0m in \u001b[0;36mchat\u001b[1;34m()\u001b[0m\n\u001b[0;32m     48\u001b[0m \u001b[1;33m\u001b[0m\u001b[0m\n\u001b[0;32m     49\u001b[0m         \u001b[0mt_usr\u001b[0m \u001b[1;33m=\u001b[0m \u001b[0mtfv\u001b[0m\u001b[1;33m.\u001b[0m\u001b[0mtransform\u001b[0m\u001b[1;33m(\u001b[0m\u001b[1;33m[\u001b[0m\u001b[0mcleanup\u001b[0m\u001b[1;33m(\u001b[0m\u001b[0musr\u001b[0m\u001b[1;33m.\u001b[0m\u001b[0mstrip\u001b[0m\u001b[1;33m(\u001b[0m\u001b[1;33m)\u001b[0m\u001b[1;33m.\u001b[0m\u001b[0mlower\u001b[0m\u001b[1;33m(\u001b[0m\u001b[1;33m)\u001b[0m\u001b[1;33m)\u001b[0m\u001b[1;33m]\u001b[0m\u001b[1;33m)\u001b[0m\u001b[1;33m\u001b[0m\u001b[1;33m\u001b[0m\u001b[0m\n\u001b[1;32m---> 50\u001b[1;33m         \u001b[0mclass_\u001b[0m \u001b[1;33m=\u001b[0m \u001b[0mle\u001b[0m\u001b[1;33m.\u001b[0m\u001b[0minverse_transform\u001b[0m\u001b[1;33m(\u001b[0m\u001b[0mmodel\u001b[0m\u001b[1;33m.\u001b[0m\u001b[0mpredict\u001b[0m\u001b[1;33m(\u001b[0m\u001b[0mt_usr\u001b[0m\u001b[1;33m)\u001b[0m\u001b[1;33m[\u001b[0m\u001b[1;36m0\u001b[0m\u001b[1;33m]\u001b[0m\u001b[1;33m)\u001b[0m\u001b[1;33m\u001b[0m\u001b[1;33m\u001b[0m\u001b[0m\n\u001b[0m\u001b[0;32m     51\u001b[0m         \u001b[0mquestionset\u001b[0m \u001b[1;33m=\u001b[0m \u001b[0mdata\u001b[0m\u001b[1;33m[\u001b[0m\u001b[0mdata\u001b[0m\u001b[1;33m[\u001b[0m\u001b[1;34m'Class'\u001b[0m\u001b[1;33m]\u001b[0m\u001b[1;33m==\u001b[0m\u001b[0mclass_\u001b[0m\u001b[1;33m]\u001b[0m\u001b[1;33m\u001b[0m\u001b[1;33m\u001b[0m\u001b[0m\n\u001b[0;32m     52\u001b[0m \u001b[1;33m\u001b[0m\u001b[0m\n",
      "\u001b[1;32m~\\AppData\\Local\\Programs\\Python\\Python39\\lib\\site-packages\\sklearn\\preprocessing\\_label.py\u001b[0m in \u001b[0;36minverse_transform\u001b[1;34m(self, y)\u001b[0m\n\u001b[0;32m    151\u001b[0m         \"\"\"\n\u001b[0;32m    152\u001b[0m         \u001b[0mcheck_is_fitted\u001b[0m\u001b[1;33m(\u001b[0m\u001b[0mself\u001b[0m\u001b[1;33m)\u001b[0m\u001b[1;33m\u001b[0m\u001b[1;33m\u001b[0m\u001b[0m\n\u001b[1;32m--> 153\u001b[1;33m         \u001b[0my\u001b[0m \u001b[1;33m=\u001b[0m \u001b[0mcolumn_or_1d\u001b[0m\u001b[1;33m(\u001b[0m\u001b[0my\u001b[0m\u001b[1;33m,\u001b[0m \u001b[0mwarn\u001b[0m\u001b[1;33m=\u001b[0m\u001b[1;32mTrue\u001b[0m\u001b[1;33m)\u001b[0m\u001b[1;33m\u001b[0m\u001b[1;33m\u001b[0m\u001b[0m\n\u001b[0m\u001b[0;32m    154\u001b[0m         \u001b[1;31m# inverse transform of empty array is empty array\u001b[0m\u001b[1;33m\u001b[0m\u001b[1;33m\u001b[0m\u001b[1;33m\u001b[0m\u001b[0m\n\u001b[0;32m    155\u001b[0m         \u001b[1;32mif\u001b[0m \u001b[0m_num_samples\u001b[0m\u001b[1;33m(\u001b[0m\u001b[0my\u001b[0m\u001b[1;33m)\u001b[0m \u001b[1;33m==\u001b[0m \u001b[1;36m0\u001b[0m\u001b[1;33m:\u001b[0m\u001b[1;33m\u001b[0m\u001b[1;33m\u001b[0m\u001b[0m\n",
      "\u001b[1;32m~\\AppData\\Local\\Programs\\Python\\Python39\\lib\\site-packages\\sklearn\\utils\\validation.py\u001b[0m in \u001b[0;36minner_f\u001b[1;34m(*args, **kwargs)\u001b[0m\n\u001b[0;32m     61\u001b[0m             \u001b[0mextra_args\u001b[0m \u001b[1;33m=\u001b[0m \u001b[0mlen\u001b[0m\u001b[1;33m(\u001b[0m\u001b[0margs\u001b[0m\u001b[1;33m)\u001b[0m \u001b[1;33m-\u001b[0m \u001b[0mlen\u001b[0m\u001b[1;33m(\u001b[0m\u001b[0mall_args\u001b[0m\u001b[1;33m)\u001b[0m\u001b[1;33m\u001b[0m\u001b[1;33m\u001b[0m\u001b[0m\n\u001b[0;32m     62\u001b[0m             \u001b[1;32mif\u001b[0m \u001b[0mextra_args\u001b[0m \u001b[1;33m<=\u001b[0m \u001b[1;36m0\u001b[0m\u001b[1;33m:\u001b[0m\u001b[1;33m\u001b[0m\u001b[1;33m\u001b[0m\u001b[0m\n\u001b[1;32m---> 63\u001b[1;33m                 \u001b[1;32mreturn\u001b[0m \u001b[0mf\u001b[0m\u001b[1;33m(\u001b[0m\u001b[1;33m*\u001b[0m\u001b[0margs\u001b[0m\u001b[1;33m,\u001b[0m \u001b[1;33m**\u001b[0m\u001b[0mkwargs\u001b[0m\u001b[1;33m)\u001b[0m\u001b[1;33m\u001b[0m\u001b[1;33m\u001b[0m\u001b[0m\n\u001b[0m\u001b[0;32m     64\u001b[0m \u001b[1;33m\u001b[0m\u001b[0m\n\u001b[0;32m     65\u001b[0m             \u001b[1;31m# extra_args > 0\u001b[0m\u001b[1;33m\u001b[0m\u001b[1;33m\u001b[0m\u001b[1;33m\u001b[0m\u001b[0m\n",
      "\u001b[1;32m~\\AppData\\Local\\Programs\\Python\\Python39\\lib\\site-packages\\sklearn\\utils\\validation.py\u001b[0m in \u001b[0;36mcolumn_or_1d\u001b[1;34m(y, warn)\u001b[0m\n\u001b[0;32m    919\u001b[0m         \u001b[1;32mreturn\u001b[0m \u001b[0mnp\u001b[0m\u001b[1;33m.\u001b[0m\u001b[0mravel\u001b[0m\u001b[1;33m(\u001b[0m\u001b[0my\u001b[0m\u001b[1;33m)\u001b[0m\u001b[1;33m\u001b[0m\u001b[1;33m\u001b[0m\u001b[0m\n\u001b[0;32m    920\u001b[0m \u001b[1;33m\u001b[0m\u001b[0m\n\u001b[1;32m--> 921\u001b[1;33m     raise ValueError(\n\u001b[0m\u001b[0;32m    922\u001b[0m         \u001b[1;34m\"y should be a 1d array, \"\u001b[0m\u001b[1;33m\u001b[0m\u001b[1;33m\u001b[0m\u001b[0m\n\u001b[0;32m    923\u001b[0m         \"got an array of shape {} instead.\".format(shape))\n",
      "\u001b[1;31mValueError\u001b[0m: y should be a 1d array, got an array of shape () instead."
     ]
    }
   ],
   "metadata": {}
  },
  {
   "cell_type": "markdown",
   "source": [],
   "metadata": {}
  },
  {
   "cell_type": "markdown",
   "source": [
    "# *THANKYOU!*"
   ],
   "metadata": {}
  }
 ],
 "metadata": {
  "kernelspec": {
   "name": "python3",
   "display_name": "Python 3.9.5 64-bit"
  },
  "language_info": {
   "codemirror_mode": {
    "name": "ipython",
    "version": 3
   },
   "file_extension": ".py",
   "mimetype": "text/x-python",
   "name": "python",
   "nbconvert_exporter": "python",
   "pygments_lexer": "ipython3",
   "version": "3.9.5"
  },
  "interpreter": {
   "hash": "46eae73246309a0002b211f56cc3bb2d554949a07c1c6ab428ee1590e93ad38e"
  }
 },
 "nbformat": 4,
 "nbformat_minor": 5
}